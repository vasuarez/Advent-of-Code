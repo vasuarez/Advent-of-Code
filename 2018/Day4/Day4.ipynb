{
 "cells": [
  {
   "cell_type": "markdown",
   "metadata": {},
   "source": [
    "Puzzle 1\n",
    "-----"
   ]
  },
  {
   "cell_type": "code",
   "execution_count": 1,
   "metadata": {},
   "outputs": [],
   "source": [
    "import re\n",
    "import numpy as np"
   ]
  },
  {
   "cell_type": "code",
   "execution_count": 2,
   "metadata": {},
   "outputs": [],
   "source": [
    "events = list()\n",
    "maxID = 0\n",
    "\n",
    "with open('input.txt', 'r') as f:   \n",
    "    for line in f:\n",
    "        \n",
    "        timestamp = re.search('\\[.*\\]', line).group()\n",
    "        action = re.search('[A-Za-z].*', line).group()\n",
    "        \n",
    "        if re.search('\\d+',action) is not None:\n",
    "            guardID = int(re.search('\\d+',action).group())\n",
    "            \n",
    "            if guardID > maxID:\n",
    "                maxID = guardID\n",
    "\n",
    "        events.append((timestamp, action))"
   ]
  },
  {
   "cell_type": "code",
   "execution_count": 3,
   "metadata": {},
   "outputs": [],
   "source": [
    "events = sorted(events, key=lambda x: x[0])"
   ]
  },
  {
   "cell_type": "code",
   "execution_count": 4,
   "metadata": {},
   "outputs": [],
   "source": [
    "tracker = np.zeros((maxID+1,60))  # 60 because there are 60 min in an hour "
   ]
  },
  {
   "cell_type": "code",
   "execution_count": 5,
   "metadata": {},
   "outputs": [],
   "source": [
    "for line in events:\n",
    "    \n",
    "    timestamp = line[0]\n",
    "    date = re.search('\\d{4}-\\d{2}-\\d{2}', timestamp).group()\n",
    "    year, month, day = date.split('-')\n",
    "    \n",
    "    time = re.search('\\d{2}:\\d{2}', timestamp).group()\n",
    "    hour, minute = [int(num) for num in time.split(':')]\n",
    "    \n",
    "    action = line[1]\n",
    "    if re.search('\\d+',action) is not None:\n",
    "        guardID = int(re.search('\\d+',action).group())\n",
    "    \n",
    "    if action == 'falls asleep':\n",
    "        sleep_min = minute\n",
    "        \n",
    "    if action == 'wakes up':\n",
    "        tracker[guardID,sleep_min:minute] += 1"
   ]
  },
  {
   "cell_type": "code",
   "execution_count": 6,
   "metadata": {},
   "outputs": [
    {
     "name": "stdout",
     "output_type": "stream",
     "text": [
      "Guard 3323 at minute 33\n"
     ]
    }
   ],
   "source": [
    "ID = 0\n",
    "hours = 0\n",
    "\n",
    "for index, guard in enumerate(tracker):\n",
    "    if sum(guard) > hours:\n",
    "        ID = index\n",
    "        hours = sum(guard)\n",
    "        \n",
    "print(f'Guard {ID} at minute {tracker[ID,].argmax()}')"
   ]
  },
  {
   "cell_type": "code",
   "execution_count": 7,
   "metadata": {},
   "outputs": [
    {
     "data": {
      "text/plain": [
       "109659"
      ]
     },
     "execution_count": 7,
     "metadata": {},
     "output_type": "execute_result"
    }
   ],
   "source": [
    "ID*tracker[ID,].argmax()"
   ]
  },
  {
   "cell_type": "markdown",
   "metadata": {},
   "source": [
    "Puzzle 2\n",
    "-----"
   ]
  },
  {
   "cell_type": "code",
   "execution_count": 28,
   "metadata": {},
   "outputs": [],
   "source": [
    "ID, minute = np.where(tracker == tracker.max())"
   ]
  },
  {
   "cell_type": "code",
   "execution_count": 32,
   "metadata": {},
   "outputs": [
    {
     "data": {
      "text/plain": [
       "36371"
      ]
     },
     "execution_count": 32,
     "metadata": {},
     "output_type": "execute_result"
    }
   ],
   "source": [
    "int(ID) * int(minute)"
   ]
  },
  {
   "cell_type": "code",
   "execution_count": null,
   "metadata": {},
   "outputs": [],
   "source": []
  }
 ],
 "metadata": {
  "kernelspec": {
   "display_name": "Python 3",
   "language": "python",
   "name": "python3"
  },
  "language_info": {
   "codemirror_mode": {
    "name": "ipython",
    "version": 3
   },
   "file_extension": ".py",
   "mimetype": "text/x-python",
   "name": "python",
   "nbconvert_exporter": "python",
   "pygments_lexer": "ipython3",
   "version": "3.7.1"
  }
 },
 "nbformat": 4,
 "nbformat_minor": 2
}
