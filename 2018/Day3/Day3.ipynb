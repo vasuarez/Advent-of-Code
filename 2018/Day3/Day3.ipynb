{
 "cells": [
  {
   "cell_type": "markdown",
   "metadata": {},
   "source": [
    "Puzzle 1\n",
    "----"
   ]
  },
  {
   "cell_type": "code",
   "execution_count": 1,
   "metadata": {},
   "outputs": [],
   "source": [
    "import numpy as np"
   ]
  },
  {
   "cell_type": "code",
   "execution_count": 17,
   "metadata": {},
   "outputs": [],
   "source": [
    "claims = list()\n",
    "\n",
    "length = 0\n",
    "width = 0\n",
    "with open('input.txt') as f:\n",
    "    for line in f:\n",
    "        line = line.strip()\n",
    "        line = line.split(' ')\n",
    "        \n",
    "        row, col = line[2].split(',')\n",
    "        row = int(row)\n",
    "        col = int(col[:-1])\n",
    "        \n",
    "        size_r, size_c = line[3].split('x')\n",
    "        size_r = int(size_r)\n",
    "        size_c = int(size_c)\n",
    "        \n",
    "        claimID = line[0]\n",
    "        calimID = int(claimID[1:])\n",
    "        \n",
    "        claims.append([row, col, size_r, size_c, calimID])\n",
    "        \n",
    "        l = row + size_r\n",
    "        w = col + size_c\n",
    "        \n",
    "        if l > length:  # maximum length\n",
    "            length = l \n",
    "        if w > width:  # maximum width\n",
    "            width = w"
   ]
  },
  {
   "cell_type": "code",
   "execution_count": 18,
   "metadata": {},
   "outputs": [],
   "source": [
    "fabric = np.zeros((length,width))"
   ]
  },
  {
   "cell_type": "code",
   "execution_count": 19,
   "metadata": {},
   "outputs": [],
   "source": [
    "for claim in claims:\n",
    "    row, col, size_r, size_c, claim_ID = claim\n",
    "    for r in range(size_r):\n",
    "        for c in range(size_c):\n",
    "            x = fabric[row + r, col + c]\n",
    "            if x == 0:\n",
    "                fabric[row + r, col + c] = claim_ID\n",
    "            else:\n",
    "                fabric[row + r, col + c] = -1"
   ]
  },
  {
   "cell_type": "code",
   "execution_count": 20,
   "metadata": {},
   "outputs": [
    {
     "data": {
      "text/plain": [
       "113966"
      ]
     },
     "execution_count": 20,
     "metadata": {},
     "output_type": "execute_result"
    }
   ],
   "source": [
    "sum([1 for row in fabric for col in row if col == -1])"
   ]
  },
  {
   "cell_type": "markdown",
   "metadata": {},
   "source": [
    "Puzzle 2\n",
    "----"
   ]
  },
  {
   "cell_type": "code",
   "execution_count": 21,
   "metadata": {},
   "outputs": [
    {
     "name": "stdout",
     "output_type": "stream",
     "text": [
      "235\n"
     ]
    }
   ],
   "source": [
    "for claim in claims:\n",
    "    row, col, size_r, size_c, claim_ID = claim\n",
    "    expected = np.ones((size_r,size_c))*claim_ID\n",
    "    \n",
    "    if np.all(fabric[row:row+size_r, col: col+size_c] == expected):\n",
    "        print(claim_ID)"
   ]
  },
  {
   "cell_type": "code",
   "execution_count": null,
   "metadata": {},
   "outputs": [],
   "source": []
  }
 ],
 "metadata": {
  "kernelspec": {
   "display_name": "Python 3",
   "language": "python",
   "name": "python3"
  },
  "language_info": {
   "codemirror_mode": {
    "name": "ipython",
    "version": 3
   },
   "file_extension": ".py",
   "mimetype": "text/x-python",
   "name": "python",
   "nbconvert_exporter": "python",
   "pygments_lexer": "ipython3",
   "version": "3.7.1"
  }
 },
 "nbformat": 4,
 "nbformat_minor": 2
}
