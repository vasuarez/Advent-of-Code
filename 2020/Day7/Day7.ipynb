{
 "cells": [
  {
   "cell_type": "markdown",
   "metadata": {},
   "source": [
    "# Day 7\n",
    "You land at the regional airport in time for your next flight. In fact, it looks like you'll even have time to grab some food: all flights are currently delayed due to issues in luggage processing.\n",
    "\n",
    "Due to recent aviation regulations, many rules (your puzzle input) are being enforced about bags and their contents; bags must be color-coded and must contain specific quantities of other color-coded bags. Apparently, nobody responsible for these regulations considered how long they would take to enforce!\n",
    "\n",
    "For example, consider the following rules:\n",
    "```\n",
    "light red bags contain 1 bright white bag, 2 muted yellow bags.\n",
    "dark orange bags contain 3 bright white bags, 4 muted yellow bags.\n",
    "bright white bags contain 1 shiny gold bag.\n",
    "muted yellow bags contain 2 shiny gold bags, 9 faded blue bags.\n",
    "shiny gold bags contain 1 dark olive bag, 2 vibrant plum bags.\n",
    "dark olive bags contain 3 faded blue bags, 4 dotted black bags.\n",
    "vibrant plum bags contain 5 faded blue bags, 6 dotted black bags.\n",
    "faded blue bags contain no other bags.\n",
    "dotted black bags contain no other bags.\n",
    "```\n",
    "These rules specify the required contents for 9 bag types. In this example, every faded blue bag is empty, every vibrant plum bag contains 11 bags (5 faded blue and 6 dotted black), and so on.\n",
    "\n",
    "You have a shiny gold bag. If you wanted to carry it in at least one other bag, how many different bag colors would be valid for the outermost bag? (In other words: how many colors can, eventually, contain at least one shiny gold bag?)\n",
    "\n",
    "In the above rules, the following options would be available to you:\n",
    "\n",
    "- A bright white bag, which can hold your shiny gold bag directly.\n",
    "- A muted yellow bag, which can hold your shiny gold bag directly, plus some other bags.\n",
    "- A dark orange bag, which can hold bright white and muted yellow bags, either of which could then hold your shiny - gold bag.\n",
    "- A light red bag, which can hold bright white and muted yellow bags, either of which could then hold your shiny gold bag.\n",
    "\n",
    "So, in this example, the number of bag colors that can eventually contain at least one shiny gold bag is 4.\n",
    "\n",
    "How many bag colors can eventually contain at least one shiny gold bag? (The list of rules is quite long; make sure you get all of it.)"
   ]
  },
  {
   "cell_type": "code",
   "execution_count": 1,
   "metadata": {},
   "outputs": [],
   "source": [
    "import re"
   ]
  },
  {
   "cell_type": "markdown",
   "metadata": {},
   "source": [
    "**Example Case**"
   ]
  },
  {
   "cell_type": "code",
   "execution_count": 2,
   "metadata": {},
   "outputs": [],
   "source": [
    "example_rules = \"\"\"light red bags contain 1 bright white bag, 2 muted yellow bags.\n",
    "dark orange bags contain 3 bright white bags, 4 muted yellow bags.\n",
    "bright white bags contain 1 shiny gold bag.\n",
    "muted yellow bags contain 2 shiny gold bags, 9 faded blue bags.\n",
    "shiny gold bags contain 1 dark olive bag, 2 vibrant plum bags.\n",
    "dark olive bags contain 3 faded blue bags, 4 dotted black bags.\n",
    "vibrant plum bags contain 5 faded blue bags, 6 dotted black bags.\n",
    "faded blue bags contain no other bags.\n",
    "dotted black bags contain no other bags.\"\"\"\n",
    "\n",
    "example_rules = example_rules.split('\\n')"
   ]
  },
  {
   "cell_type": "markdown",
   "metadata": {},
   "source": [
    "**Read in Input**"
   ]
  },
  {
   "cell_type": "code",
   "execution_count": 3,
   "metadata": {},
   "outputs": [],
   "source": [
    "with open('input.txt', 'r') as f:\n",
    "    rules = f.read().split('\\n')"
   ]
  },
  {
   "cell_type": "markdown",
   "metadata": {},
   "source": [
    "## Part 1"
   ]
  },
  {
   "cell_type": "code",
   "execution_count": 4,
   "metadata": {},
   "outputs": [],
   "source": [
    "def look_for_bag(current_bag, looking, bag_rules):\n",
    "    \"\"\" look for a specific bag. return 1 if found and 0 if not\n",
    "    current_bag: str\n",
    "    looking: str\n",
    "    bag_rules: dict\n",
    "    \"\"\"\n",
    "    if current_bag is None:\n",
    "        return 0\n",
    "    elif current_bag == looking:\n",
    "        return 1\n",
    "    else:\n",
    "        for child in bag_rules[current_bag]:\n",
    "            if look_for_bag(child, looking, bag_rules) == 1:\n",
    "                return 1 # if found\n",
    "        return 0 # if not found\n",
    "    \n",
    "def build_rules(rules):\n",
    "    \"\"\" build dictionary to represent rules\n",
    "    rules: list\n",
    "    \"\"\"\n",
    "    bag_rules = dict()\n",
    "    for rule in rules:\n",
    "        bag, rule = rule.split(' contain ')\n",
    "\n",
    "        # process rule\n",
    "\n",
    "        rule = rule.replace('.', '').split(', ')\n",
    "        inside_rules = dict()\n",
    "        for r in rule:\n",
    "            if r == 'no other bags':\n",
    "                number = 0\n",
    "                inside_bag = None\n",
    "            else:\n",
    "                number = int(re.findall(r'\\d+', r)[0])\n",
    "                inside_bag = ' '.join((re.findall(r'\\w+', r)[1:]))\n",
    "                if number == 1:\n",
    "                    inside_bag += 's'\n",
    "\n",
    "            inside_rules[inside_bag] = number\n",
    "\n",
    "        # save rule\n",
    "        bag_rules[bag] = inside_rules\n",
    "    return bag_rules\n",
    "    \n",
    "def find_bag_with_rules(rules, looking='shiny gold bags'):\n",
    "    \"\"\" find how many combinations exist to have the looking bag inside at least one bag\n",
    "    rules: list\n",
    "    looking: str\n",
    "    \"\"\"\n",
    "    bag_rules = build_rules(rules)\n",
    "    found = -1 # will find it in the actual bag\n",
    "    for start in bag_rules:\n",
    "        found += look_for_bag(start, looking, bag_rules)\n",
    "    return found\n",
    "\n",
    "assert find_bag_with_rules(example_rules, 'shiny gold bags') == 4"
   ]
  },
  {
   "cell_type": "code",
   "execution_count": 5,
   "metadata": {},
   "outputs": [
    {
     "data": {
      "text/plain": [
       "229"
      ]
     },
     "execution_count": 5,
     "metadata": {},
     "output_type": "execute_result"
    }
   ],
   "source": [
    "find_bag_with_rules(rules, 'shiny gold bags')"
   ]
  },
  {
   "cell_type": "markdown",
   "metadata": {},
   "source": [
    "## Part 2\n",
    "\n",
    "It's getting pretty expensive to fly these days - not because of ticket prices, but because of the ridiculous number of bags you need to buy!\n",
    "\n",
    "Consider again your shiny gold bag and the rules from the above example:\n",
    "\n",
    "- faded blue bags contain 0 other bags.\n",
    "- dotted black bags contain 0 other bags.\n",
    "- vibrant plum bags contain 11 other bags: 5 faded blue bags and 6 dotted black bags.\n",
    "- dark olive bags contain 7 other bags: 3 faded blue bags and 4 dotted black bags.\n",
    "\n",
    "So, a single shiny gold bag must contain 1 dark olive bag (and the 7 bags within it) plus 2 vibrant plum bags (and the 11 bags within each of those): 1 + 1 X 7 + 2 + 2 X 11 = 32 bags!\n",
    "\n",
    "Of course, the actual rules have a small chance of going several levels deeper than this example; be sure to count all of the bags, even if the nesting becomes topologically impractical!\n",
    "\n",
    "Here's another example:\n",
    "```\n",
    "shiny gold bags contain 2 dark red bags.\n",
    "dark red bags contain 2 dark orange bags.\n",
    "dark orange bags contain 2 dark yellow bags.\n",
    "dark yellow bags contain 2 dark green bags.\n",
    "dark green bags contain 2 dark blue bags.\n",
    "dark blue bags contain 2 dark violet bags.\n",
    "dark violet bags contain no other bags.\n",
    "```\n",
    "In this example, a single shiny gold bag must contain 126 other bags.\n",
    "\n",
    "How many individual bags are required inside your single shiny gold bag?"
   ]
  },
  {
   "cell_type": "code",
   "execution_count": 6,
   "metadata": {},
   "outputs": [],
   "source": [
    "def count_all_bags(current_bag, bag_rules):\n",
    "    \"\"\" count all bags that you'd have to take if you wanted to take your current bags\n",
    "    current_bag: str\n",
    "    bag_rules: dict\n",
    "    \"\"\"\n",
    "    if current_bag is None:\n",
    "        return 0\n",
    "    else:\n",
    "        x = 0\n",
    "        for child, val in bag_rules[current_bag].items():\n",
    "            total = 0\n",
    "            total += count_all_bags(child, bag_rules)\n",
    "            x += val + val * total\n",
    "        return x\n",
    "\n",
    "assert count_all_bags('shiny gold bags', build_rules(example_rules)) == 32"
   ]
  },
  {
   "cell_type": "code",
   "execution_count": 7,
   "metadata": {},
   "outputs": [
    {
     "data": {
      "text/plain": [
       "6683"
      ]
     },
     "execution_count": 7,
     "metadata": {},
     "output_type": "execute_result"
    }
   ],
   "source": [
    "count_all_bags('shiny gold bags', build_rules(rules))"
   ]
  }
 ],
 "metadata": {
  "kernelspec": {
   "display_name": "Python 3",
   "language": "python",
   "name": "python3"
  },
  "language_info": {
   "codemirror_mode": {
    "name": "ipython",
    "version": 3
   },
   "file_extension": ".py",
   "mimetype": "text/x-python",
   "name": "python",
   "nbconvert_exporter": "python",
   "pygments_lexer": "ipython3",
   "version": "3.7.4"
  }
 },
 "nbformat": 4,
 "nbformat_minor": 4
}
