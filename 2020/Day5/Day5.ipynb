{
 "cells": [
  {
   "cell_type": "markdown",
   "metadata": {},
   "source": [
    "# Day 5\n",
    "\n",
    "You board your plane only to discover a new problem: you dropped your boarding pass! You aren't sure which seat is yours, and all of the flight attendants are busy with the flood of people that suddenly made it through passport control.\n",
    "\n",
    "You write a quick program to use your phone's camera to scan all of the nearby boarding passes (your puzzle input); perhaps you can find your seat through process of elimination.\n",
    "\n",
    "Instead of zones or groups, this airline uses binary space partitioning to seat people. A seat might be specified like FBFBBFFRLR, where F means \"front\", B means \"back\", L means \"left\", and R means \"right\".\n",
    "\n",
    "The first 7 characters will either be F or B; these specify exactly one of the 128 rows on the plane (numbered 0 through 127). Each letter tells you which half of a region the given seat is in. Start with the whole list of rows; the first letter indicates whether the seat is in the front (0 through 63) or the back (64 through 127). The next letter indicates which half of that region the seat is in, and so on until you're left with exactly one row.\n",
    "\n",
    "For example, consider just the first seven characters of FBFBBFFRLR:\n",
    "\n",
    "Start by considering the whole range, rows 0 through 127.\n",
    "- F means to take the lower half, keeping rows 0 through 63.\n",
    "- B means to take the upper half, keeping rows 32 through 63.\n",
    "- F means to take the lower half, keeping rows 32 through 47.\n",
    "- B means to take the upper half, keeping rows 40 through 47.\n",
    "- B keeps rows 44 through 47.\n",
    "- F keeps rows 44 through 45.\n",
    "- The final F keeps the lower of the two, row 44.\n",
    "\n",
    "The last three characters will be either L or R; these specify exactly one of the 8 columns of seats on the plane (numbered 0 through 7). The same process as above proceeds again, this time with only three steps. L means to keep the lower half, while R means to keep the upper half.\n",
    "\n",
    "For example, consider just the last 3 characters of FBFBBFFRLR:\n",
    "\n",
    "- Start by considering the whole range, columns 0 through 7.\n",
    "- R means to take the upper half, keeping columns 4 through 7.\n",
    "- L means to take the lower half, keeping columns 4 through 5.\n",
    "- The final R keeps the upper of the two, column 5.\n",
    "\n",
    "So, decoding FBFBBFFRLR reveals that it is the seat at row 44, column 5.\n",
    "\n",
    "Every seat also has a unique seat ID: multiply the row by 8, then add the column. In this example, the seat has ID 44 * 8 + 5 = 357.\n",
    "\n",
    "Here are some other boarding passes:\n",
    "\n",
    "- BFFFBBFRRR: row 70, column 7, seat ID 567.\n",
    "- FFFBBBFRRR: row 14, column 7, seat ID 119.\n",
    "- BBFFBBFRLL: row 102, column 4, seat ID 820.\n",
    "\n",
    "As a sanity check, look through your list of boarding passes. What is the highest seat ID on a boarding pass?"
   ]
  },
  {
   "cell_type": "code",
   "execution_count": 1,
   "metadata": {},
   "outputs": [],
   "source": [
    "import numpy as np"
   ]
  },
  {
   "cell_type": "markdown",
   "metadata": {},
   "source": [
    "**Example Case**"
   ]
  },
  {
   "cell_type": "code",
   "execution_count": 2,
   "metadata": {},
   "outputs": [],
   "source": [
    "example_boarding_pass = \"FBFBBFFRLR\""
   ]
  },
  {
   "cell_type": "markdown",
   "metadata": {},
   "source": [
    "**Read in Input** "
   ]
  },
  {
   "cell_type": "code",
   "execution_count": 3,
   "metadata": {},
   "outputs": [],
   "source": [
    "with open('input.txt', 'r') as f:\n",
    "    boarding_passes = f.read().split('\\n')"
   ]
  },
  {
   "cell_type": "markdown",
   "metadata": {},
   "source": [
    "## Part 1"
   ]
  },
  {
   "cell_type": "code",
   "execution_count": 4,
   "metadata": {},
   "outputs": [],
   "source": [
    "class BoardingPass:\n",
    "    def __init__(self, boarding_pass):\n",
    "        self.boarding_pass = boarding_pass\n",
    "    \n",
    "    def seat_id(self):\n",
    "        \"\"\" calculate the seat ID of the boarding pass\n",
    "        \"\"\"\n",
    "        return (self._find_row() * 8) + self._find_seat()\n",
    "        \n",
    "    def _find_row(self):\n",
    "        \"\"\" find which row from the 128 rows (starting at row 0) on the plane\n",
    "        \"\"\"\n",
    "        rows = range(128)\n",
    "        for char in self.boarding_pass[:7]:\n",
    "            mid = int(len(rows)/2)\n",
    "            if char == 'F': # front of the plane\n",
    "                rows = rows[:mid]\n",
    "            elif char == 'B': # back of the plane\n",
    "                rows = rows[mid:]\n",
    "        return rows[0]\n",
    "\n",
    "    def _find_seat(self):\n",
    "        \"\"\" find which seat from the 8 seats (starting at seat 0) in the row\n",
    "        \"\"\"\n",
    "        rows = range(8)\n",
    "        for char in self.boarding_pass[-3:]:\n",
    "            mid = int(len(rows)/2)\n",
    "            if char == 'L': # lower of the row\n",
    "                rows = rows[:mid]\n",
    "            elif char == 'R': # higher of the row\n",
    "                rows = rows[mid:]\n",
    "        return rows[0]\n",
    "\n",
    "    \n",
    "def find_highest_seat_id(boarding_passes):\n",
    "    \"\"\" find the highest seat ID in the boarding_passes\n",
    "    boarding_passes: list\n",
    "    \"\"\"\n",
    "    max_id = 0 # lowest row is 0 and lowest seat is 0, so lowest id is (0 * 8) + 0 = 0\n",
    "    for boarding_pass in boarding_passes:\n",
    "        if BoardingPass(boarding_pass).seat_id() > max_id:\n",
    "            max_id = BoardingPass(boarding_pass).seat_id()\n",
    "    return max_id\n",
    "\n",
    "assert BoardingPass(example_boarding_pass).seat_id() == 357    "
   ]
  },
  {
   "cell_type": "code",
   "execution_count": 5,
   "metadata": {},
   "outputs": [
    {
     "data": {
      "text/plain": [
       "813"
      ]
     },
     "execution_count": 5,
     "metadata": {},
     "output_type": "execute_result"
    }
   ],
   "source": [
    "find_highest_seat_id(boarding_passes)"
   ]
  },
  {
   "cell_type": "markdown",
   "metadata": {},
   "source": [
    "## Part 2\n",
    "\n",
    "Ding! The \"fasten seat belt\" signs have turned on. Time to find your seat.\n",
    "\n",
    "It's a completely full flight, so your seat should be the only missing boarding pass in your list. However, there's a catch: some of the seats at the very front and back of the plane don't exist on this aircraft, so they'll be missing from your list as well.\n",
    "\n",
    "Your seat wasn't at the very front or back, though; the seats with IDs +1 and -1 from yours will be in your list.\n",
    "\n",
    "What is the ID of your seat?"
   ]
  },
  {
   "cell_type": "code",
   "execution_count": 6,
   "metadata": {
    "scrolled": true
   },
   "outputs": [],
   "source": [
    "# potential seats\n",
    "seat_chart = list()\n",
    "for row in range(128):\n",
    "    seats_in_row = list()\n",
    "    for seat in range(8):\n",
    "        seat_id = (row * 8) + seat\n",
    "        seats_in_row.append(str(seat_id).zfill(4))\n",
    "    seat_chart.append(seats_in_row)"
   ]
  },
  {
   "cell_type": "markdown",
   "metadata": {},
   "source": [
    "**Visualization**"
   ]
  },
  {
   "cell_type": "code",
   "execution_count": 7,
   "metadata": {
    "scrolled": false
   },
   "outputs": [
    {
     "data": {
      "text/plain": [
       "[['0000', '0001', '0002', '0003', '0004', '0005', '----', '----'],\n",
       " ['----', '----', '----', '----', '----', '----', '----', '----'],\n",
       " ['----', '----', '----', '----', '----', '----', '----', '----'],\n",
       " ['----', '----', '----', '----', '----', '----', '----', '----'],\n",
       " ['----', '----', '----', '----', '----', '----', '----', '----'],\n",
       " ['----', '----', '----', '----', '----', '----', '----', '----'],\n",
       " ['----', '----', '----', '----', '----', '----', '----', '----'],\n",
       " ['----', '----', '----', '----', '----', '----', '----', '----'],\n",
       " ['----', '----', '----', '----', '----', '----', '----', '----'],\n",
       " ['----', '----', '----', '----', '----', '----', '----', '----'],\n",
       " ['----', '----', '----', '----', '----', '----', '----', '----'],\n",
       " ['----', '----', '----', '----', '----', '----', '----', '----'],\n",
       " ['----', '----', '----', '----', '----', '----', '----', '----'],\n",
       " ['----', '----', '----', '----', '----', '----', '----', '----'],\n",
       " ['----', '----', '----', '----', '----', '----', '----', '----'],\n",
       " ['----', '----', '----', '----', '----', '----', '----', '----'],\n",
       " ['----', '----', '----', '----', '----', '----', '----', '----'],\n",
       " ['----', '----', '----', '----', '----', '----', '----', '----'],\n",
       " ['----', '----', '----', '----', '----', '----', '----', '----'],\n",
       " ['----', '----', '----', '----', '----', '----', '----', '----'],\n",
       " ['----', '----', '----', '----', '----', '----', '----', '----'],\n",
       " ['----', '----', '----', '----', '----', '----', '----', '----'],\n",
       " ['----', '----', '----', '----', '----', '----', '----', '----'],\n",
       " ['----', '----', '----', '----', '----', '----', '----', '----'],\n",
       " ['----', '----', '----', '----', '----', '----', '----', '----'],\n",
       " ['----', '----', '----', '----', '----', '----', '----', '----'],\n",
       " ['----', '----', '----', '----', '----', '----', '----', '----'],\n",
       " ['----', '----', '----', '----', '----', '----', '----', '----'],\n",
       " ['----', '----', '----', '----', '----', '----', '----', '----'],\n",
       " ['----', '----', '----', '----', '----', '----', '----', '----'],\n",
       " ['----', '----', '----', '----', '----', '----', '----', '----'],\n",
       " ['----', '----', '----', '----', '----', '----', '----', '----'],\n",
       " ['----', '----', '----', '----', '----', '----', '----', '----'],\n",
       " ['----', '----', '----', '----', '----', '----', '----', '----'],\n",
       " ['----', '----', '----', '----', '----', '----', '----', '----'],\n",
       " ['----', '----', '----', '----', '----', '----', '----', '----'],\n",
       " ['----', '----', '----', '----', '----', '----', '----', '----'],\n",
       " ['----', '----', '----', '----', '----', '----', '----', '----'],\n",
       " ['----', '----', '----', '----', '----', '----', '----', '----'],\n",
       " ['----', '----', '----', '----', '----', '----', '----', '----'],\n",
       " ['----', '----', '----', '----', '----', '----', '----', '----'],\n",
       " ['----', '----', '----', '----', '----', '----', '----', '----'],\n",
       " ['----', '----', '----', '----', '----', '----', '----', '----'],\n",
       " ['----', '----', '----', '----', '----', '----', '----', '----'],\n",
       " ['----', '----', '----', '----', '----', '----', '----', '----'],\n",
       " ['----', '----', '----', '----', '----', '----', '----', '----'],\n",
       " ['----', '----', '----', '----', '----', '----', '----', '----'],\n",
       " ['----', '----', '----', '----', '----', '----', '----', '----'],\n",
       " ['----', '----', '----', '----', '----', '----', '----', '----'],\n",
       " ['----', '----', '----', '----', '----', '----', '----', '----'],\n",
       " ['----', '----', '----', '----', '----', '----', '----', '----'],\n",
       " ['----', '----', '----', '----', '----', '----', '----', '----'],\n",
       " ['----', '----', '----', '----', '----', '----', '----', '----'],\n",
       " ['----', '----', '----', '----', '----', '----', '----', '----'],\n",
       " ['----', '----', '----', '----', '----', '----', '----', '----'],\n",
       " ['----', '----', '----', '----', '----', '----', '----', '----'],\n",
       " ['----', '----', '----', '----', '----', '----', '----', '----'],\n",
       " ['----', '----', '----', '----', '----', '----', '----', '----'],\n",
       " ['----', '----', '----', '----', '----', '----', '----', '----'],\n",
       " ['----', '----', '----', '----', '----', '----', '----', '----'],\n",
       " ['----', '----', '----', '----', '----', '----', '----', '----'],\n",
       " ['----', '----', '----', '----', '----', '----', '----', '----'],\n",
       " ['----', '----', '----', '----', '----', '----', '----', '----'],\n",
       " ['----', '----', '----', '----', '----', '----', '----', '----'],\n",
       " ['----', '----', '----', '----', '----', '----', '----', '----'],\n",
       " ['----', '----', '----', '----', '----', '----', '----', '----'],\n",
       " ['----', '----', '----', '----', '----', '----', '----', '----'],\n",
       " ['----', '----', '----', '----', '----', '----', '----', '----'],\n",
       " ['----', '----', '----', '----', '----', '----', '----', '----'],\n",
       " ['----', '----', '----', '----', '----', '----', '----', '----'],\n",
       " ['----', '----', '----', '----', '----', '----', '----', '----'],\n",
       " ['----', '----', '----', '----', '----', '----', '----', '----'],\n",
       " ['----', '----', '----', '----', '----', '----', '----', '----'],\n",
       " ['----', '----', '----', '----', '----', '----', '----', '----'],\n",
       " ['----', '----', '----', '----', '----', '----', '----', '----'],\n",
       " ['----', '----', '----', '----', '----', '----', '----', '----'],\n",
       " ['----', '----', '----', '----', '0612', '----', '----', '----'],\n",
       " ['----', '----', '----', '----', '----', '----', '----', '----'],\n",
       " ['----', '----', '----', '----', '----', '----', '----', '----'],\n",
       " ['----', '----', '----', '----', '----', '----', '----', '----'],\n",
       " ['----', '----', '----', '----', '----', '----', '----', '----'],\n",
       " ['----', '----', '----', '----', '----', '----', '----', '----'],\n",
       " ['----', '----', '----', '----', '----', '----', '----', '----'],\n",
       " ['----', '----', '----', '----', '----', '----', '----', '----'],\n",
       " ['----', '----', '----', '----', '----', '----', '----', '----'],\n",
       " ['----', '----', '----', '----', '----', '----', '----', '----'],\n",
       " ['----', '----', '----', '----', '----', '----', '----', '----'],\n",
       " ['----', '----', '----', '----', '----', '----', '----', '----'],\n",
       " ['----', '----', '----', '----', '----', '----', '----', '----'],\n",
       " ['----', '----', '----', '----', '----', '----', '----', '----'],\n",
       " ['----', '----', '----', '----', '----', '----', '----', '----'],\n",
       " ['----', '----', '----', '----', '----', '----', '----', '----'],\n",
       " ['----', '----', '----', '----', '----', '----', '----', '----'],\n",
       " ['----', '----', '----', '----', '----', '----', '----', '----'],\n",
       " ['----', '----', '----', '----', '----', '----', '----', '----'],\n",
       " ['----', '----', '----', '----', '----', '----', '----', '----'],\n",
       " ['----', '----', '----', '----', '----', '----', '----', '----'],\n",
       " ['----', '----', '----', '----', '----', '----', '----', '----'],\n",
       " ['----', '----', '----', '----', '----', '----', '----', '----'],\n",
       " ['----', '----', '----', '----', '----', '----', '----', '----'],\n",
       " ['----', '----', '----', '----', '----', '----', '----', '----'],\n",
       " ['----', '----', '----', '----', '----', '----', '0814', '0815'],\n",
       " ['0816', '0817', '0818', '0819', '0820', '0821', '0822', '0823'],\n",
       " ['0824', '0825', '0826', '0827', '0828', '0829', '0830', '0831'],\n",
       " ['0832', '0833', '0834', '0835', '0836', '0837', '0838', '0839'],\n",
       " ['0840', '0841', '0842', '0843', '0844', '0845', '0846', '0847'],\n",
       " ['0848', '0849', '0850', '0851', '0852', '0853', '0854', '0855'],\n",
       " ['0856', '0857', '0858', '0859', '0860', '0861', '0862', '0863'],\n",
       " ['0864', '0865', '0866', '0867', '0868', '0869', '0870', '0871'],\n",
       " ['0872', '0873', '0874', '0875', '0876', '0877', '0878', '0879'],\n",
       " ['0880', '0881', '0882', '0883', '0884', '0885', '0886', '0887'],\n",
       " ['0888', '0889', '0890', '0891', '0892', '0893', '0894', '0895'],\n",
       " ['0896', '0897', '0898', '0899', '0900', '0901', '0902', '0903'],\n",
       " ['0904', '0905', '0906', '0907', '0908', '0909', '0910', '0911'],\n",
       " ['0912', '0913', '0914', '0915', '0916', '0917', '0918', '0919'],\n",
       " ['0920', '0921', '0922', '0923', '0924', '0925', '0926', '0927'],\n",
       " ['0928', '0929', '0930', '0931', '0932', '0933', '0934', '0935'],\n",
       " ['0936', '0937', '0938', '0939', '0940', '0941', '0942', '0943'],\n",
       " ['0944', '0945', '0946', '0947', '0948', '0949', '0950', '0951'],\n",
       " ['0952', '0953', '0954', '0955', '0956', '0957', '0958', '0959'],\n",
       " ['0960', '0961', '0962', '0963', '0964', '0965', '0966', '0967'],\n",
       " ['0968', '0969', '0970', '0971', '0972', '0973', '0974', '0975'],\n",
       " ['0976', '0977', '0978', '0979', '0980', '0981', '0982', '0983'],\n",
       " ['0984', '0985', '0986', '0987', '0988', '0989', '0990', '0991'],\n",
       " ['0992', '0993', '0994', '0995', '0996', '0997', '0998', '0999'],\n",
       " ['1000', '1001', '1002', '1003', '1004', '1005', '1006', '1007'],\n",
       " ['1008', '1009', '1010', '1011', '1012', '1013', '1014', '1015'],\n",
       " ['1016', '1017', '1018', '1019', '1020', '1021', '1022', '1023']]"
      ]
     },
     "execution_count": 7,
     "metadata": {},
     "output_type": "execute_result"
    }
   ],
   "source": [
    "# seats taken\n",
    "for boarding_pass in boarding_passes:\n",
    "    boarding_pass = BoardingPass(boarding_pass)\n",
    "    seat_chart[boarding_pass._find_row()][boarding_pass._find_seat()] = '----'  # seat taken\n",
    "seat_chart    "
   ]
  }
 ],
 "metadata": {
  "kernelspec": {
   "display_name": "Python 3",
   "language": "python",
   "name": "python3"
  },
  "language_info": {
   "codemirror_mode": {
    "name": "ipython",
    "version": 3
   },
   "file_extension": ".py",
   "mimetype": "text/x-python",
   "name": "python",
   "nbconvert_exporter": "python",
   "pygments_lexer": "ipython3",
   "version": "3.7.4"
  }
 },
 "nbformat": 4,
 "nbformat_minor": 4
}
