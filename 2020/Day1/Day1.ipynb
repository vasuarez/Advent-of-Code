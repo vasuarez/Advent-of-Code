{
 "cells": [
  {
   "cell_type": "markdown",
   "metadata": {},
   "source": [
    "# Day 1\n",
    "\n",
    "Before you leave, the Elves in accounting just need you to fix your expense report (your puzzle input); apparently, something isn't quite adding up.\n",
    "\n",
    "Specifically, they need you to find the two entries that sum to 2020 and then multiply those two numbers together.\n",
    "\n",
    "For example, suppose your expense report contained the following:\n",
    "\n",
    "```\n",
    "1721\n",
    "979\n",
    "366\n",
    "299\n",
    "675\n",
    "1456\n",
    "```\n",
    "\n",
    "In this list, the two entries that sum to 2020 are 1721 and 299. Multiplying them together produces 1721 * 299 = 514579, so the correct answer is 514579.\n",
    "\n",
    "Of course, your expense report is much larger. Find the two entries that sum to 2020; what do you get if you multiply them together?"
   ]
  },
  {
   "cell_type": "code",
   "execution_count": 1,
   "metadata": {},
   "outputs": [],
   "source": [
    "import numpy as np"
   ]
  },
  {
   "cell_type": "code",
   "execution_count": 2,
   "metadata": {},
   "outputs": [],
   "source": [
    "def add(x):\n",
    "    \"\"\" add entries in x\n",
    "    x: list\n",
    "    \"\"\"\n",
    "    return sum(x)\n",
    "\n",
    "def equal(x, target=2020):\n",
    "    \"\"\" check if input equals target\n",
    "    x: int\n",
    "    target: int\n",
    "    \"\"\"\n",
    "    return x == target"
   ]
  },
  {
   "cell_type": "markdown",
   "metadata": {},
   "source": [
    "**Example Case**"
   ]
  },
  {
   "cell_type": "code",
   "execution_count": 3,
   "metadata": {},
   "outputs": [],
   "source": [
    "example_expense_report = [1721, 979, 366, 299, 675, 1456]"
   ]
  },
  {
   "cell_type": "markdown",
   "metadata": {},
   "source": [
    "**Read in Input**"
   ]
  },
  {
   "cell_type": "code",
   "execution_count": 4,
   "metadata": {},
   "outputs": [],
   "source": [
    "with open('input.txt', 'r') as f:\n",
    "    expense_report = f.readlines()\n",
    "    expense_report = np.array(expense_report).astype(int)"
   ]
  },
  {
   "cell_type": "markdown",
   "metadata": {},
   "source": [
    "## Part 1"
   ]
  },
  {
   "cell_type": "markdown",
   "metadata": {},
   "source": [
    "**Brute Force Appraoch**"
   ]
  },
  {
   "cell_type": "code",
   "execution_count": 5,
   "metadata": {},
   "outputs": [],
   "source": [
    "def find_expense_report_entries(expense_report):\n",
    "    \"\"\" find the product of two entries that when added are equaled to 2020 from the expense_report\n",
    "    expense_report: list\n",
    "    \"\"\"\n",
    "    for idx1, x1 in enumerate(expense_report):\n",
    "        for idx2, x2 in enumerate(expense_report[idx1+1:]):\n",
    "            if equal(add([x1, x2]), 2020):\n",
    "                return x1*x2\n",
    "            \n",
    "assert find_expense_report_entries(example_expense_report) == 514579            "
   ]
  },
  {
   "cell_type": "markdown",
   "metadata": {},
   "source": [
    "**Sort Approach**\n",
    "\n",
    "could improve more from recursion"
   ]
  },
  {
   "cell_type": "code",
   "execution_count": 6,
   "metadata": {
    "scrolled": false
   },
   "outputs": [],
   "source": [
    "def find_expense_report_entries_sort(expense_report):\n",
    "    \"\"\" find the product of two entries that when added are equaled to 2020 from the expense_report\n",
    "    expense_report: list\n",
    "    \"\"\"\n",
    "    expense_report_ = np.array(expense_report)\n",
    "    expense_report_.sort()\n",
    "    expense_report_\n",
    "    for idx1, val1 in enumerate(expense_report_):\n",
    "        mid = int(len(expense_report_[idx1+1:])/2)\n",
    "        val2 = expense_report_[idx1+1:][mid]\n",
    "        y = add([val1,val2])\n",
    "        expense_report = expense_report_[idx1+1:]\n",
    "        while len(expense_report) != 0:\n",
    "            if equal(y, 2020):\n",
    "                return (val1*val2)\n",
    "            else:\n",
    "                if y < 2020: # go up\n",
    "                    expense_report = expense_report[mid+1:]\n",
    "                else: # go down\n",
    "                    expense_report = expense_report[:mid]\n",
    "                if len(expense_report) > 0:\n",
    "                    mid = int(len(expense_report)/2)\n",
    "                    val2 = expense_report[mid]\n",
    "                    y = add([val1,val2])\n",
    "    return \"Not Found\"\n",
    "\n",
    "assert find_expense_report_entries_sort(example_expense_report) == 514579"
   ]
  },
  {
   "cell_type": "markdown",
   "metadata": {},
   "source": [
    "**Speed**"
   ]
  },
  {
   "cell_type": "code",
   "execution_count": 7,
   "metadata": {},
   "outputs": [
    {
     "name": "stdout",
     "output_type": "stream",
     "text": [
      "CPU times: user 30.7 ms, sys: 1.81 ms, total: 32.5 ms\n",
      "Wall time: 30.8 ms\n"
     ]
    },
    {
     "data": {
      "text/plain": [
       "982464"
      ]
     },
     "execution_count": 7,
     "metadata": {},
     "output_type": "execute_result"
    }
   ],
   "source": [
    "%%time\n",
    "find_expense_report_entries(expense_report)"
   ]
  },
  {
   "cell_type": "code",
   "execution_count": 8,
   "metadata": {},
   "outputs": [
    {
     "name": "stdout",
     "output_type": "stream",
     "text": [
      "CPU times: user 274 µs, sys: 28 µs, total: 302 µs\n",
      "Wall time: 281 µs\n"
     ]
    },
    {
     "data": {
      "text/plain": [
       "982464"
      ]
     },
     "execution_count": 8,
     "metadata": {},
     "output_type": "execute_result"
    }
   ],
   "source": [
    "%%time\n",
    "find_expense_report_entries_sort(expense_report)"
   ]
  },
  {
   "cell_type": "markdown",
   "metadata": {},
   "source": [
    "## Part 2\n",
    "\n",
    "The Elves in accounting are thankful for your help; one of them even offers you a starfish coin they had left over from a past vacation. They offer you a second one if you can find three numbers in your expense report that meet the same criteria.\n",
    "\n",
    "Using the above example again, the three entries that sum to 2020 are 979, 366, and 675. Multiplying them together produces the answer, 241861950.\n",
    "\n",
    "In your expense report, what is the product of the three entries that sum to 2020?"
   ]
  },
  {
   "cell_type": "markdown",
   "metadata": {},
   "source": [
    "**Brute Force**"
   ]
  },
  {
   "cell_type": "code",
   "execution_count": 9,
   "metadata": {},
   "outputs": [],
   "source": [
    "def find_expense_report_entries(expense_report):\n",
    "    \"\"\" find the product of two entries that when added are equaled to 2020 from the expense_report\n",
    "    expense_report: list\n",
    "    \"\"\"\n",
    "    for idx1, x1 in enumerate(expense_report):\n",
    "        for idx2, x2 in enumerate(expense_report[idx1+1:]):\n",
    "            for idx3, x3 in enumerate(expense_report[idx2+1:]):\n",
    "                if equal(add([x1, x2, x3]), 2020):\n",
    "                    return x1*x2*x3\n",
    "assert find_expense_report_entries(example_expense_report) == 241861950"
   ]
  },
  {
   "cell_type": "markdown",
   "metadata": {},
   "source": [
    "**Sort Approach**\n",
    "\n",
    "could improve more from recursion"
   ]
  },
  {
   "cell_type": "code",
   "execution_count": 10,
   "metadata": {},
   "outputs": [],
   "source": [
    "def find_expense_report_entries_sort(expense_report):\n",
    "    \"\"\" find the product of two entries that when added are equaled to 2020 from the expense_report\n",
    "    expense_report: list\n",
    "    \"\"\"\n",
    "    expense_report_ = np.array(expense_report)\n",
    "    expense_report_.sort()\n",
    "    expense_report_\n",
    "    for idx1, val1 in enumerate(expense_report_):\n",
    "        for idx2, val2 in enumerate(expense_report_[idx1+1:]):\n",
    "            mid = int(len(expense_report_[idx2+1:])/2)\n",
    "            val3 = expense_report_[idx2+1:][mid]\n",
    "            y = add([val1, val2, val3])\n",
    "            expense_report = expense_report_[idx2+1:]\n",
    "            while len(expense_report) != 0:\n",
    "                if equal(y, 2020):\n",
    "                    return (val1*val2*val3)\n",
    "                else:\n",
    "                    if y < 2020: # go up\n",
    "                        expense_report = expense_report[mid+1:]\n",
    "                    else: # go down\n",
    "                        expense_report = expense_report[:mid]\n",
    "                    if len(expense_report) > 0:\n",
    "                        mid = int(len(expense_report)/2)\n",
    "                        val3 = expense_report[mid]\n",
    "                        y = add([val1, val2, val3])\n",
    "    return \"Not Found 2\"\n",
    "\n",
    "assert find_expense_report_entries_sort(example_expense_report) == 241861950"
   ]
  },
  {
   "cell_type": "markdown",
   "metadata": {},
   "source": [
    "**Speed**"
   ]
  },
  {
   "cell_type": "code",
   "execution_count": 11,
   "metadata": {},
   "outputs": [
    {
     "name": "stdout",
     "output_type": "stream",
     "text": [
      "CPU times: user 2.37 s, sys: 9.52 ms, total: 2.38 s\n",
      "Wall time: 2.38 s\n"
     ]
    },
    {
     "data": {
      "text/plain": [
       "162292410"
      ]
     },
     "execution_count": 11,
     "metadata": {},
     "output_type": "execute_result"
    }
   ],
   "source": [
    "%%time\n",
    "find_expense_report_entries(expense_report)"
   ]
  },
  {
   "cell_type": "code",
   "execution_count": 12,
   "metadata": {},
   "outputs": [
    {
     "name": "stdout",
     "output_type": "stream",
     "text": [
      "CPU times: user 5.94 ms, sys: 585 µs, total: 6.53 ms\n",
      "Wall time: 6.1 ms\n"
     ]
    },
    {
     "data": {
      "text/plain": [
       "162292410"
      ]
     },
     "execution_count": 12,
     "metadata": {},
     "output_type": "execute_result"
    }
   ],
   "source": [
    "%%time\n",
    "find_expense_report_entries_sort(expense_report)"
   ]
  }
 ],
 "metadata": {
  "kernelspec": {
   "display_name": "Python 3",
   "language": "python",
   "name": "python3"
  },
  "language_info": {
   "codemirror_mode": {
    "name": "ipython",
    "version": 3
   },
   "file_extension": ".py",
   "mimetype": "text/x-python",
   "name": "python",
   "nbconvert_exporter": "python",
   "pygments_lexer": "ipython3",
   "version": "3.7.4"
  }
 },
 "nbformat": 4,
 "nbformat_minor": 4
}
