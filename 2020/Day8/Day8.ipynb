{
 "cells": [
  {
   "cell_type": "markdown",
   "metadata": {},
   "source": [
    "# Day 8\n",
    "Your flight to the major airline hub reaches cruising altitude without incident. While you consider checking the in-flight menu for one of those drinks that come with a little umbrella, you are interrupted by the kid sitting next to you.\n",
    "\n",
    "Their handheld game console won't turn on! They ask if you can take a look.\n",
    "\n",
    "You narrow the problem down to a strange infinite loop in the boot code (your puzzle input) of the device. You should be able to fix it, but first you need to be able to run the code in isolation.\n",
    "\n",
    "The boot code is represented as a text file with one instruction per line of text. Each instruction consists of an operation (acc, jmp, or nop) and an argument (a signed number like +4 or -20).\n",
    "\n",
    "- acc increases or decreases a single global value called the accumulator by the value given in the argument. For example, acc +7 would increase the accumulator by 7. The accumulator starts at 0. After an acc instruction, the instruction immediately below it is executed next.\n",
    "- jmp jumps to a new instruction relative to itself. The next instruction to execute is found using the argument as an offset from the jmp instruction; for example, jmp +2 would skip the next instruction, jmp +1 would continue to the instruction immediately below it, and jmp -20 would cause the instruction 20 lines above to be executed next.\n",
    "- nop stands for No OPeration - it does nothing. The instruction immediately below it is executed next.\n",
    "\n",
    "For example, consider the following program:\n",
    "```\n",
    "nop +0\n",
    "acc +1\n",
    "jmp +4\n",
    "acc +3\n",
    "jmp -3\n",
    "acc -99\n",
    "acc +1\n",
    "jmp -4\n",
    "acc +6\n",
    "```\n",
    "These instructions are visited in this order:\n",
    "```\n",
    "nop +0  | 1\n",
    "acc +1  | 2, 8(!)\n",
    "jmp +4  | 3\n",
    "acc +3  | 6\n",
    "jmp -3  | 7\n",
    "acc -99 |\n",
    "acc +1  | 4\n",
    "jmp -4  | 5\n",
    "acc +6  |\n",
    "```\n",
    "First, the nop +0 does nothing. Then, the accumulator is increased from 0 to 1 (acc +1) and jmp +4 sets the next instruction to the other acc +1 near the bottom. After it increases the accumulator from 1 to 2, jmp -4 executes, setting the next instruction to the only acc +3. It sets the accumulator to 5, and jmp -3 causes the program to continue back at the first acc +1.\n",
    "\n",
    "This is an infinite loop: with this sequence of jumps, the program will run forever. The moment the program tries to run any instruction a second time, you know it will never terminate.\n",
    "\n",
    "Immediately before the program would run an instruction a second time, the value in the accumulator is 5.\n",
    "\n",
    "Run your copy of the boot code. Immediately before any instruction is executed a second time, what value is in the accumulator?"
   ]
  },
  {
   "cell_type": "markdown",
   "metadata": {},
   "source": [
    "**Example Case**"
   ]
  },
  {
   "cell_type": "code",
   "execution_count": 1,
   "metadata": {},
   "outputs": [
    {
     "data": {
      "text/plain": [
       "[('nop', '+0'),\n",
       " ('acc', '+1'),\n",
       " ('jmp', '+4'),\n",
       " ('acc', '+3'),\n",
       " ('jmp', '-3'),\n",
       " ('acc', '-99'),\n",
       " ('acc', '+1'),\n",
       " ('jmp', '-4'),\n",
       " ('acc', '+6')]"
      ]
     },
     "execution_count": 1,
     "metadata": {},
     "output_type": "execute_result"
    }
   ],
   "source": [
    "example_code = \"\"\"nop +0\n",
    "acc +1\n",
    "jmp +4\n",
    "acc +3\n",
    "jmp -3\n",
    "acc -99\n",
    "acc +1\n",
    "jmp -4\n",
    "acc +6\"\"\"\n",
    "\n",
    "example_code = [tuple(line.split(' ')) for line in example_code.split('\\n')]\n",
    "example_code"
   ]
  },
  {
   "cell_type": "markdown",
   "metadata": {},
   "source": [
    "**Read in Input**"
   ]
  },
  {
   "cell_type": "code",
   "execution_count": 2,
   "metadata": {},
   "outputs": [],
   "source": [
    "with open('input.txt', 'r') as f:\n",
    "    code = f.read().split('\\n')\n",
    "    code = [tuple(line.split(' ')) for line in code]"
   ]
  },
  {
   "cell_type": "markdown",
   "metadata": {},
   "source": [
    "## Part 1"
   ]
  },
  {
   "cell_type": "code",
   "execution_count": 3,
   "metadata": {},
   "outputs": [],
   "source": [
    "def find_infinite_loop(code):\n",
    "    \"\"\" find the value of the accumulator right when the infinite loop with begin again\n",
    "    code: list\n",
    "    return val of accumulator and index where infinit loop starts\n",
    "    \"\"\"\n",
    "    accumulator = 0\n",
    "    visited = set()\n",
    "    idx = 0\n",
    "    while idx not in visited and idx < len(code):\n",
    "        visited.add(idx)\n",
    "        cmd, val = code[idx]\n",
    "        if cmd == 'acc':\n",
    "            accumulator += int(val)\n",
    "            idx += 1\n",
    "        elif cmd == 'jmp':\n",
    "            idx += int(val)\n",
    "        else: # nop\n",
    "            idx += 1\n",
    "\n",
    "    return accumulator, idx + 1\n",
    "\n",
    "assert find_infinite_loop(example_code) == (5, 2)"
   ]
  },
  {
   "cell_type": "code",
   "execution_count": 4,
   "metadata": {},
   "outputs": [
    {
     "data": {
      "text/plain": [
       "1797"
      ]
     },
     "execution_count": 4,
     "metadata": {},
     "output_type": "execute_result"
    }
   ],
   "source": [
    "acc, _ = find_infinite_loop(code)\n",
    "acc"
   ]
  },
  {
   "cell_type": "markdown",
   "metadata": {},
   "source": [
    "## Part 2\n",
    "After some careful analysis, you believe that exactly one instruction is corrupted.\n",
    "\n",
    "Somewhere in the program, either a jmp is supposed to be a nop, or a nop is supposed to be a jmp. (No acc instructions were harmed in the corruption of this boot code.)\n",
    "\n",
    "The program is supposed to terminate by attempting to execute an instruction immediately after the last instruction in the file. By changing exactly one jmp or nop, you can repair the boot code and make it terminate correctly.\n",
    "\n",
    "For example, consider the same program from above:\n",
    "```\n",
    "nop +0\n",
    "acc +1\n",
    "jmp +4\n",
    "acc +3\n",
    "jmp -3\n",
    "acc -99\n",
    "acc +1\n",
    "jmp -4\n",
    "acc +6\n",
    "```\n",
    "If you change the first instruction from nop +0 to jmp +0, it would create a single-instruction infinite loop, never leaving that instruction. If you change almost any of the jmp instructions, the program will still eventually find another jmp instruction and loop forever.\n",
    "\n",
    "However, if you change the second-to-last instruction (from jmp -4 to nop -4), the program terminates! The instructions are visited in this order:\n",
    "```\n",
    "nop +0  | 1\n",
    "acc +1  | 2\n",
    "jmp +4  | 3\n",
    "acc +3  |\n",
    "jmp -3  |\n",
    "acc -99 |\n",
    "acc +1  | 4\n",
    "nop -4  | 5\n",
    "acc +6  | 6\n",
    "```\n",
    "\n",
    "After the last instruction (acc +6), the program terminates by attempting to run the instruction below the last instruction in the file. With this change, after the program terminates, the accumulator contains the value 8 (acc +1, acc +1, acc +6).\n",
    "\n",
    "Fix the program so that it terminates normally by changing exactly one jmp (to nop) or nop (to jmp). What is the value of the accumulator after the program terminates?"
   ]
  },
  {
   "cell_type": "code",
   "execution_count": 5,
   "metadata": {},
   "outputs": [],
   "source": [
    "def find_visited_loop(inf_loop_starts, code):\n",
    "    \"\"\" find all places where infinite loop stops at\n",
    "    inf_loop_starts: int\n",
    "    code: list\n",
    "    \"\"\"\n",
    "    visited = set() # order listed\n",
    "    idx = inf_loop_starts\n",
    "    while idx not in visited:\n",
    "        visited.add(idx)\n",
    "        cmd, val = code[idx]\n",
    "        if cmd == 'acc':\n",
    "            idx += 1\n",
    "        elif cmd == 'jmp':\n",
    "            idx += int(val)\n",
    "        else: # nop\n",
    "            idx += 1\n",
    "    return visited\n",
    "\n",
    "\n",
    "def fix_code(code):\n",
    "    \"\"\" fix code and find accumulator with fix code\n",
    "    code: list\n",
    "    \"\"\"\n",
    "    _, inf_loop_starts = find_infinite_loop(code)\n",
    "    visited = find_visited_loop(inf_loop_starts, code)\n",
    "    for idx in visited:\n",
    "        cmd, val = code[idx]\n",
    "        if cmd == 'jmp':\n",
    "            try_code = code.copy()\n",
    "            try_code[idx] = ('nop', val)\n",
    "        elif cmd == 'nop':\n",
    "            try_code = code.copy()\n",
    "            try_code[idx] = ('jmp', val)\n",
    "        else:\n",
    "            continue\n",
    "\n",
    "        acc, inf_loop_starts = find_infinite_loop(try_code)\n",
    "        if inf_loop_starts == len(code) + 1: # we fixed the code\n",
    "            return acc\n",
    "            break\n",
    "        else:\n",
    "            continue\n",
    "\n",
    "assert fix_code(example_code) == 8"
   ]
  },
  {
   "cell_type": "code",
   "execution_count": 6,
   "metadata": {},
   "outputs": [
    {
     "data": {
      "text/plain": [
       "1036"
      ]
     },
     "execution_count": 6,
     "metadata": {},
     "output_type": "execute_result"
    }
   ],
   "source": [
    "fix_code(code)"
   ]
  }
 ],
 "metadata": {
  "kernelspec": {
   "display_name": "Python 3",
   "language": "python",
   "name": "python3"
  },
  "language_info": {
   "codemirror_mode": {
    "name": "ipython",
    "version": 3
   },
   "file_extension": ".py",
   "mimetype": "text/x-python",
   "name": "python",
   "nbconvert_exporter": "python",
   "pygments_lexer": "ipython3",
   "version": "3.7.4"
  }
 },
 "nbformat": 4,
 "nbformat_minor": 4
}
