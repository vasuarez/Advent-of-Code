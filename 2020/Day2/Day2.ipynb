{
 "cells": [
  {
   "cell_type": "markdown",
   "metadata": {},
   "source": [
    "# Day 2\n",
    "Your flight departs in a few days from the coastal airport; the easiest way down to the coast from here is via toboggan.\n",
    "\n",
    "The shopkeeper at the North Pole Toboggan Rental Shop is having a bad day. \"Something's wrong with our computers; we can't log in!\" You ask if you can take a look.\n",
    "\n",
    "Their password database seems to be a little corrupted: some of the passwords wouldn't have been allowed by the Official Toboggan Corporate Policy that was in effect when they were chosen.\n",
    "\n",
    "To try to debug the problem, they have created a list (your puzzle input) of passwords (according to the corrupted database) and the corporate policy when that password was set.\n",
    "\n",
    "For example, suppose you have the following list:\n",
    "\n",
    "```\n",
    "1-3 a: abcde\n",
    "1-3 b: cdefg\n",
    "2-9 c: ccccccccc\n",
    "```\n",
    "\n",
    "Each line gives the password policy and then the password. The password policy indicates the lowest and highest number of times a given letter must appear for the password to be valid. For example, 1-3 a means that the password must contain a at least 1 time and at most 3 times.\n",
    "\n",
    "In the above example, 2 passwords are valid. The middle password, cdefg, is not; it contains no instances of b, but needs at least 1. The first and third passwords are valid: they contain one a or nine c, both within the limits of their respective policies.\n",
    "\n",
    "How many passwords are valid according to their policies?"
   ]
  },
  {
   "cell_type": "code",
   "execution_count": 1,
   "metadata": {},
   "outputs": [],
   "source": [
    "from collections import Counter"
   ]
  },
  {
   "cell_type": "markdown",
   "metadata": {},
   "source": [
    "**Example Cases**"
   ]
  },
  {
   "cell_type": "code",
   "execution_count": 2,
   "metadata": {},
   "outputs": [],
   "source": [
    "example_database = [\n",
    "    \"1-3 a: abcde\",\n",
    "    \"1-3 b: cdefg\",\n",
    "    \"2-9 c: ccccccccc\"\n",
    "]"
   ]
  },
  {
   "cell_type": "markdown",
   "metadata": {},
   "source": [
    "**Read in Input**"
   ]
  },
  {
   "cell_type": "code",
   "execution_count": 3,
   "metadata": {},
   "outputs": [],
   "source": [
    "with open('input.txt', 'r') as f:\n",
    "    database = f.read().split('\\n')[:-1]"
   ]
  },
  {
   "cell_type": "markdown",
   "metadata": {},
   "source": [
    "## Part 1"
   ]
  },
  {
   "cell_type": "code",
   "execution_count": 4,
   "metadata": {},
   "outputs": [],
   "source": [
    "def parse_entry(entry):\n",
    "    \"\"\" parse entry to extract password policy min, max, and letter, and password\n",
    "    entry: str\n",
    "    \"\"\"\n",
    "    policy, password = entry.split(': ')\n",
    "    policy, letter = policy.split(' ')\n",
    "    min_policy, max_policy = policy.split('-')\n",
    "    return {\n",
    "        \"policy_one\": int(min_policy), \n",
    "        \"policy_two\": int(max_policy), \n",
    "        \"letter\": letter, \n",
    "        \"password\": password\n",
    "    }\n",
    "\n",
    "def min_max_policy_violation(policy_one, policy_two, letter, password):\n",
    "    \"\"\" check if the password is violated given the min-max policy\n",
    "    policy_one: int\n",
    "    policy_two: int\n",
    "    letter: str\n",
    "    password:str\n",
    "    \n",
    "    Return: True, password violates the policy. False, password doesn't violate the policy.\n",
    "    \"\"\"\n",
    "    min_policy, max_policy = policy_one, policy_two\n",
    "    ps_count = Counter(password)[letter]\n",
    "    return ps_count < min_policy or ps_count > max_policy \n",
    "\n",
    "def validate_database(db, policy_check):\n",
    "    \"\"\" find the number of valid passwords in the database\n",
    "    db: list\n",
    "    \"\"\"\n",
    "    violations = 0\n",
    "    for entry in db:\n",
    "        if not entry.isspace() and entry: # cannot be empty entry\n",
    "            violations += policy_check(**parse_entry(entry))\n",
    "    return len(db) - violations\n",
    "\n",
    "assert min_max_policy_violation(**parse_entry(example_database[0])) is False\n",
    "assert min_max_policy_violation(**parse_entry(example_database[1])) is True\n",
    "assert min_max_policy_violation(**parse_entry(example_database[2])) is False\n",
    "assert validate_database(example_database, min_max_policy_violation) == 2"
   ]
  },
  {
   "cell_type": "code",
   "execution_count": 5,
   "metadata": {},
   "outputs": [
    {
     "data": {
      "text/plain": [
       "383"
      ]
     },
     "execution_count": 5,
     "metadata": {},
     "output_type": "execute_result"
    }
   ],
   "source": [
    "validate_database(database, min_max_policy_violation)"
   ]
  },
  {
   "cell_type": "markdown",
   "metadata": {},
   "source": [
    "## Part 2\n",
    "While it appears you validated the passwords correctly, they don't seem to be what the Official Toboggan Corporate Authentication System is expecting.\n",
    "\n",
    "The shopkeeper suddenly realizes that he just accidentally explained the password policy rules from his old job at the sled rental place down the street! The Official Toboggan Corporate Policy actually works a little differently.\n",
    "\n",
    "Each policy actually describes two positions in the password, where 1 means the first character, 2 means the second character, and so on. (Be careful; Toboggan Corporate Policies have no concept of \"index zero\"!) Exactly one of these positions must contain the given letter. Other occurrences of the letter are irrelevant for the purposes of policy enforcement.\n",
    "\n",
    "Given the same example list from above:\n",
    "\n",
    "```\n",
    "1-3 a: abcde is valid: position 1 contains a and position 3 does not.\n",
    "1-3 b: cdefg is invalid: neither position 1 nor position 3 contains b.\n",
    "2-9 c: ccccccccc is invalid: both position 2 and position 9 contain c.\n",
    "```\n",
    "\n",
    "How many passwords are valid according to the new interpretation of the policies?"
   ]
  },
  {
   "cell_type": "code",
   "execution_count": 6,
   "metadata": {},
   "outputs": [],
   "source": [
    "def position_polict_violation(policy_one, policy_two, letter, password):\n",
    "    \"\"\" check if the password is violated given the position policy\n",
    "    policy_one: int\n",
    "    policy_two: int\n",
    "    letter: str\n",
    "    password:str\n",
    "    \n",
    "    Return: True, password violates the policy. False, password doesn't violate the policy.\n",
    "    \"\"\"\n",
    "    return (int(password[policy_one-1] != letter) + int(password[policy_two-1] != letter)) != 1 # only one can be True\n",
    "\n",
    "\n",
    "assert position_polict_violation(**parse_entry(example_database[0])) is False\n",
    "assert position_polict_violation(**parse_entry(example_database[1])) is True\n",
    "assert position_polict_violation(**parse_entry(example_database[2])) is True\n",
    "assert validate_database(example_database, position_polict_violation) == 1"
   ]
  },
  {
   "cell_type": "code",
   "execution_count": 7,
   "metadata": {},
   "outputs": [
    {
     "data": {
      "text/plain": [
       "272"
      ]
     },
     "execution_count": 7,
     "metadata": {},
     "output_type": "execute_result"
    }
   ],
   "source": [
    "validate_database(database, position_polict_violation)"
   ]
  }
 ],
 "metadata": {
  "kernelspec": {
   "display_name": "Python 3",
   "language": "python",
   "name": "python3"
  },
  "language_info": {
   "codemirror_mode": {
    "name": "ipython",
    "version": 3
   },
   "file_extension": ".py",
   "mimetype": "text/x-python",
   "name": "python",
   "nbconvert_exporter": "python",
   "pygments_lexer": "ipython3",
   "version": "3.7.4"
  }
 },
 "nbformat": 4,
 "nbformat_minor": 4
}
