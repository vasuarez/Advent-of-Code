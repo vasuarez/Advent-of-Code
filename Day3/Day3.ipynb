{
 "cells": [
  {
   "cell_type": "code",
   "execution_count": 1,
   "metadata": {},
   "outputs": [],
   "source": [
    "claims = list()\n",
    "\n",
    "length = 0\n",
    "width = 0\n",
    "with open('input.txt') as f:\n",
    "    for line in f:\n",
    "        line = line.strip()\n",
    "        line = line.split(' ')\n",
    "        \n",
    "        row, col = line[2].split(',')\n",
    "        row = int(row)\n",
    "        col = int(col[:-1])\n",
    "        \n",
    "        size_r, size_c = line[3].split('x')\n",
    "        size_r = int(size_r)\n",
    "        size_c = int(size_c)\n",
    "        \n",
    "        claims.append([row, col, size_r, size_c])\n",
    "        \n",
    "        l = row + size_r\n",
    "        w = col + size_c\n",
    "        \n",
    "        if l > length:  # maximum length\n",
    "            length = l \n",
    "        if w > width:  # maximum width\n",
    "            width = w"
   ]
  },
  {
   "cell_type": "code",
   "execution_count": 2,
   "metadata": {},
   "outputs": [],
   "source": [
    "import numpy as np"
   ]
  },
  {
   "cell_type": "code",
   "execution_count": 3,
   "metadata": {},
   "outputs": [],
   "source": [
    "fabric = np.zeros((length,width))"
   ]
  },
  {
   "cell_type": "code",
   "execution_count": null,
   "metadata": {
    "scrolled": true
   },
   "outputs": [],
   "source": [
    "fabric"
   ]
  },
  {
   "cell_type": "code",
   "execution_count": null,
   "metadata": {},
   "outputs": [],
   "source": [
    "claims = [[1,3,4,4], [3,1,4,4], [5,5,2,2]]"
   ]
  },
  {
   "cell_type": "code",
   "execution_count": null,
   "metadata": {},
   "outputs": [],
   "source": [
    "for claim in claims:\n",
    "    row, col, size_r, size_c = claim\n",
    "    for r in range(size_r):\n",
    "        for c in range(size_c):\n",
    "            fabric[row + r, col + c] += 1"
   ]
  },
  {
   "cell_type": "code",
   "execution_count": null,
   "metadata": {},
   "outputs": [],
   "source": [
    "sum([1 for row in fabric for col in row if col > 1])"
   ]
  },
  {
   "cell_type": "code",
   "execution_count": null,
   "metadata": {},
   "outputs": [],
   "source": []
  }
 ],
 "metadata": {
  "kernelspec": {
   "display_name": "Python 3",
   "language": "python",
   "name": "python3"
  },
  "language_info": {
   "codemirror_mode": {
    "name": "ipython",
    "version": 3
   },
   "file_extension": ".py",
   "mimetype": "text/x-python",
   "name": "python",
   "nbconvert_exporter": "python",
   "pygments_lexer": "ipython3",
   "version": "3.7.1"
  }
 },
 "nbformat": 4,
 "nbformat_minor": 2
}
