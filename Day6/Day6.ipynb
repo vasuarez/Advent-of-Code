{
 "cells": [
  {
   "cell_type": "code",
   "execution_count": 1,
   "metadata": {},
   "outputs": [],
   "source": [
    "x = \"\"\"1, 1\n",
    "1, 6\n",
    "8, 3\n",
    "3, 4\n",
    "5, 5\n",
    "8, 9\"\"\"\n",
    "#col, row"
   ]
  },
  {
   "cell_type": "markdown",
   "metadata": {},
   "source": [
    "Puzzle 1\n",
    "----"
   ]
  },
  {
   "cell_type": "code",
   "execution_count": 3,
   "metadata": {},
   "outputs": [],
   "source": [
    "import numpy as np"
   ]
  },
  {
   "cell_type": "code",
   "execution_count": 1,
   "metadata": {},
   "outputs": [],
   "source": [
    "max_r = 0\n",
    "max_c = 0\n",
    "points = list()\n",
    "\n",
    "with open('input.txt', 'r') as f:\n",
    "    for line in f:\n",
    "        c, r = [int(x) for x in line.split(', ')]\n",
    "        points.append((r,c))\n",
    "        \n",
    "        if c > max_c:\n",
    "            max_c = c\n",
    "        if r > max_r:\n",
    "            max_r = r"
   ]
  },
  {
   "cell_type": "code",
   "execution_count": 4,
   "metadata": {},
   "outputs": [],
   "source": [
    "tracker = np.zeros((max_r+1,max_c+1))"
   ]
  },
  {
   "cell_type": "code",
   "execution_count": 6,
   "metadata": {},
   "outputs": [],
   "source": [
    "#for each point, lets calculate the closest point \n",
    "for r, row in enumerate(tracker):\n",
    "    for c, col in enumerate(row):\n",
    "        dist = list()\n",
    "        min_dist = float('inf')\n",
    "        \n",
    "        for index, point in enumerate(points):\n",
    "            point_r, point_c = point\n",
    "            d = abs(c - point_c) + abs(r - point_r) #Manhattan distance\n",
    "    \n",
    "            if d < min_dist:\n",
    "                min_dist = d\n",
    "                \n",
    "            dist.append((index, d))\n",
    "        dist_sort = sorted(dist,key= lambda x: x[1]) \n",
    "        \n",
    "        if len([(i,d) for i, d in dist_sort if d == min_dist]) != 1:  # there is a tie\n",
    "            tracker[r,c] = -1\n",
    "        else:\n",
    "            tracker[r,c] = dist_sort[0][0]"
   ]
  },
  {
   "cell_type": "code",
   "execution_count": 7,
   "metadata": {},
   "outputs": [],
   "source": [
    "total_area = list()\n",
    "for index, point in enumerate(points):\n",
    "    # point on top edge ;point on left edge; point is on the bottom edge; point is on the right edge\n",
    "    if sum(tracker[0] == index) != 0 \\\n",
    "    or sum(tracker[:,0] == index) != 0  \\\n",
    "    or sum(tracker[len(tracker)-1] == index) != 0 \\\n",
    "    or sum(tracker[:,len(tracker[0])-1] == index) !=0:  \n",
    "        continue\n",
    "    total_area.append((index, np.sum(tracker == index)))"
   ]
  },
  {
   "cell_type": "code",
   "execution_count": 8,
   "metadata": {},
   "outputs": [
    {
     "data": {
      "text/plain": [
       "(7, 4060)"
      ]
     },
     "execution_count": 8,
     "metadata": {},
     "output_type": "execute_result"
    }
   ],
   "source": [
    "sorted(total_area, key=lambda x: x[1], reverse=True)[0] #top index and area"
   ]
  },
  {
   "cell_type": "markdown",
   "metadata": {},
   "source": [
    "Puzzle 2\n",
    "----"
   ]
  },
  {
   "cell_type": "code",
   "execution_count": 9,
   "metadata": {},
   "outputs": [],
   "source": [
    "p = 0\n",
    "for r, row in enumerate(tracker):\n",
    "    for c, col in enumerate(row):\n",
    "        d = 0\n",
    "        for index, point in enumerate(points):\n",
    "            point_r, point_c = point\n",
    "            d += abs(c - point_c) + abs(r - point_r) #Manhattan distance\n",
    "        if d < 10000:  # given rule\n",
    "            p+=1"
   ]
  },
  {
   "cell_type": "code",
   "execution_count": 10,
   "metadata": {},
   "outputs": [
    {
     "data": {
      "text/plain": [
       "36136"
      ]
     },
     "execution_count": 10,
     "metadata": {},
     "output_type": "execute_result"
    }
   ],
   "source": [
    "p"
   ]
  },
  {
   "cell_type": "code",
   "execution_count": null,
   "metadata": {},
   "outputs": [],
   "source": []
  }
 ],
 "metadata": {
  "kernelspec": {
   "display_name": "Python 3",
   "language": "python",
   "name": "python3"
  },
  "language_info": {
   "codemirror_mode": {
    "name": "ipython",
    "version": 3
   },
   "file_extension": ".py",
   "mimetype": "text/x-python",
   "name": "python",
   "nbconvert_exporter": "python",
   "pygments_lexer": "ipython3",
   "version": "3.7.1"
  }
 },
 "nbformat": 4,
 "nbformat_minor": 2
}
