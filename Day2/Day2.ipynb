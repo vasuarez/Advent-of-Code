{
 "cells": [
  {
   "cell_type": "code",
   "execution_count": 1,
   "metadata": {},
   "outputs": [],
   "source": [
    "ids = list()\n",
    "with open('input.txt', 'r') as f:\n",
    "    for line in f:\n",
    "        ids.append(line.strip())"
   ]
  },
  {
   "cell_type": "markdown",
   "metadata": {},
   "source": [
    "Puzzle 1\n",
    "----"
   ]
  },
  {
   "cell_type": "code",
   "execution_count": 2,
   "metadata": {},
   "outputs": [],
   "source": [
    "from collections import Counter"
   ]
  },
  {
   "cell_type": "code",
   "execution_count": 5,
   "metadata": {},
   "outputs": [
    {
     "data": {
      "text/plain": [
       "5456"
      ]
     },
     "execution_count": 5,
     "metadata": {},
     "output_type": "execute_result"
    }
   ],
   "source": [
    "twos = 0\n",
    "threes = 0 \n",
    "\n",
    "for boxID in ids:\n",
    "    c = Counter(boxID)\n",
    "    two_signal = 0\n",
    "    three_signal = 0\n",
    "    \n",
    "    for letter, count in c.items():\n",
    "        if two_signal != 1 and count == 2:\n",
    "            twos += 1\n",
    "            two_signal = 1\n",
    "            continue\n",
    "        elif three_signal != 1 and count == 3:\n",
    "            threes += 1\n",
    "            three_signal = 1\n",
    "            continue\n",
    "\n",
    "twos * threes"
   ]
  },
  {
   "cell_type": "code",
   "execution_count": null,
   "metadata": {},
   "outputs": [],
   "source": []
  }
 ],
 "metadata": {
  "kernelspec": {
   "display_name": "Python 3",
   "language": "python",
   "name": "python3"
  },
  "language_info": {
   "codemirror_mode": {
    "name": "ipython",
    "version": 3
   },
   "file_extension": ".py",
   "mimetype": "text/x-python",
   "name": "python",
   "nbconvert_exporter": "python",
   "pygments_lexer": "ipython3",
   "version": "3.6.6"
  }
 },
 "nbformat": 4,
 "nbformat_minor": 2
}
