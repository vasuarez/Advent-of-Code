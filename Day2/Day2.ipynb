{
 "cells": [
  {
   "cell_type": "code",
   "execution_count": 1,
   "metadata": {},
   "outputs": [],
   "source": [
    "ids = list()\n",
    "with open('input.txt', 'r') as f:\n",
    "    for line in f:\n",
    "        ids.append(line.strip())"
   ]
  },
  {
   "cell_type": "markdown",
   "metadata": {},
   "source": [
    "Puzzle 1\n",
    "----"
   ]
  },
  {
   "cell_type": "code",
   "execution_count": 2,
   "metadata": {},
   "outputs": [],
   "source": [
    "from collections import Counter"
   ]
  },
  {
   "cell_type": "code",
   "execution_count": 5,
   "metadata": {},
   "outputs": [
    {
     "data": {
      "text/plain": [
       "5456"
      ]
     },
     "execution_count": 5,
     "metadata": {},
     "output_type": "execute_result"
    }
   ],
   "source": [
    "twos = 0\n",
    "threes = 0 \n",
    "\n",
    "for boxID in ids:\n",
    "    c = Counter(boxID)\n",
    "    two_signal = 0\n",
    "    three_signal = 0\n",
    "    \n",
    "    for letter, count in c.items():\n",
    "        if two_signal != 1 and count == 2:\n",
    "            twos += 1\n",
    "            two_signal = 1\n",
    "            continue\n",
    "        elif three_signal != 1 and count == 3:\n",
    "            threes += 1\n",
    "            three_signal = 1\n",
    "            continue\n",
    "\n",
    "twos * threes"
   ]
  },
  {
   "cell_type": "markdown",
   "metadata": {},
   "source": [
    "Puzzle 2\n",
    "-----"
   ]
  },
  {
   "cell_type": "code",
   "execution_count": 13,
   "metadata": {},
   "outputs": [],
   "source": [
    "import re"
   ]
  },
  {
   "cell_type": "code",
   "execution_count": 38,
   "metadata": {},
   "outputs": [
    {
     "name": "stdout",
     "output_type": "stream",
     "text": [
      "megsdlpulxvinkatfoyzxcbvq\n"
     ]
    }
   ],
   "source": [
    "diff = 0\n",
    "count = 0\n",
    "for count, boxID1 in enumerate(ids):\n",
    "    for boxID2 in ids[count:]:\n",
    "        diff = 0\n",
    "        for letter1, letter2 in zip(boxID1, boxID2):\n",
    "            count += 1\n",
    "            if letter1 != letter2:\n",
    "                diff += 1\n",
    "                character_diff = letter1\n",
    "                boxID = boxID1\n",
    "        if diff == 1:\n",
    "            print(re.sub(character_diff, '', boxID))\n",
    "            break"
   ]
  },
  {
   "cell_type": "code",
   "execution_count": 39,
   "metadata": {},
   "outputs": [
    {
     "data": {
      "text/plain": [
       "275"
      ]
     },
     "execution_count": 39,
     "metadata": {},
     "output_type": "execute_result"
    }
   ],
   "source": [
    "count\n",
    "#O(k^2 * n) solution\t"
   ]
  },
  {
   "cell_type": "code",
   "execution_count": 35,
   "metadata": {
    "scrolled": true
   },
   "outputs": [
    {
     "data": {
      "text/plain": [
       "250"
      ]
     },
     "execution_count": 35,
     "metadata": {},
     "output_type": "execute_result"
    }
   ],
   "source": [
    "len(ids)**2 "
   ]
  },
  {
   "cell_type": "code",
   "execution_count": null,
   "metadata": {},
   "outputs": [],
   "source": []
  }
 ],
 "metadata": {
  "kernelspec": {
   "display_name": "Python 3",
   "language": "python",
   "name": "python3"
  },
  "language_info": {
   "codemirror_mode": {
    "name": "ipython",
    "version": 3
   },
   "file_extension": ".py",
   "mimetype": "text/x-python",
   "name": "python",
   "nbconvert_exporter": "python",
   "pygments_lexer": "ipython3",
   "version": "3.6.6"
  }
 },
 "nbformat": 4,
 "nbformat_minor": 2
}
